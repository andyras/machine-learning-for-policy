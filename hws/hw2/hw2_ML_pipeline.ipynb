{
 "cells": [
  {
   "cell_type": "markdown",
   "metadata": {},
   "source": [
    "# HW 2: Machine Learning Pipeline\n",
    "  \n",
    "Aya Liu    \n",
    "04/18/2019 "
   ]
  },
  {
   "cell_type": "code",
   "execution_count": 1,
   "metadata": {},
   "outputs": [],
   "source": [
    "%load_ext autoreload\n",
    "%autoreload 2"
   ]
  },
  {
   "cell_type": "code",
   "execution_count": 2,
   "metadata": {},
   "outputs": [],
   "source": [
    "import numpy as np\n",
    "import pandas as pd\n",
    "import pipeline"
   ]
  },
  {
   "cell_type": "code",
   "execution_count": 3,
   "metadata": {},
   "outputs": [],
   "source": [
    "data_file = 'data/credit-data.csv'"
   ]
  },
  {
   "cell_type": "markdown",
   "metadata": {},
   "source": [
    "# 1) Read data"
   ]
  },
  {
   "cell_type": "code",
   "execution_count": 4,
   "metadata": {
    "scrolled": false
   },
   "outputs": [
    {
     "data": {
      "text/html": [
       "<div>\n",
       "<style scoped>\n",
       "    .dataframe tbody tr th:only-of-type {\n",
       "        vertical-align: middle;\n",
       "    }\n",
       "\n",
       "    .dataframe tbody tr th {\n",
       "        vertical-align: top;\n",
       "    }\n",
       "\n",
       "    .dataframe thead th {\n",
       "        text-align: right;\n",
       "    }\n",
       "</style>\n",
       "<table border=\"1\" class=\"dataframe\">\n",
       "  <thead>\n",
       "    <tr style=\"text-align: right;\">\n",
       "      <th></th>\n",
       "      <th>PersonID</th>\n",
       "      <th>SeriousDlqin2yrs</th>\n",
       "      <th>RevolvingUtilizationOfUnsecuredLines</th>\n",
       "      <th>age</th>\n",
       "      <th>zipcode</th>\n",
       "      <th>NumberOfTime30-59DaysPastDueNotWorse</th>\n",
       "      <th>DebtRatio</th>\n",
       "      <th>MonthlyIncome</th>\n",
       "      <th>NumberOfOpenCreditLinesAndLoans</th>\n",
       "      <th>NumberOfTimes90DaysLate</th>\n",
       "      <th>NumberRealEstateLoansOrLines</th>\n",
       "      <th>NumberOfTime60-89DaysPastDueNotWorse</th>\n",
       "      <th>NumberOfDependents</th>\n",
       "    </tr>\n",
       "  </thead>\n",
       "  <tbody>\n",
       "    <tr>\n",
       "      <th>0</th>\n",
       "      <td>98976</td>\n",
       "      <td>0</td>\n",
       "      <td>1.000000</td>\n",
       "      <td>55</td>\n",
       "      <td>60601</td>\n",
       "      <td>0</td>\n",
       "      <td>505.000000</td>\n",
       "      <td>0.0</td>\n",
       "      <td>2</td>\n",
       "      <td>0</td>\n",
       "      <td>0</td>\n",
       "      <td>0</td>\n",
       "      <td>0.0</td>\n",
       "    </tr>\n",
       "    <tr>\n",
       "      <th>1</th>\n",
       "      <td>98991</td>\n",
       "      <td>0</td>\n",
       "      <td>0.547745</td>\n",
       "      <td>71</td>\n",
       "      <td>60601</td>\n",
       "      <td>0</td>\n",
       "      <td>0.459565</td>\n",
       "      <td>15666.0</td>\n",
       "      <td>7</td>\n",
       "      <td>0</td>\n",
       "      <td>2</td>\n",
       "      <td>0</td>\n",
       "      <td>0.0</td>\n",
       "    </tr>\n",
       "    <tr>\n",
       "      <th>2</th>\n",
       "      <td>99012</td>\n",
       "      <td>0</td>\n",
       "      <td>0.044280</td>\n",
       "      <td>51</td>\n",
       "      <td>60601</td>\n",
       "      <td>0</td>\n",
       "      <td>0.014520</td>\n",
       "      <td>4200.0</td>\n",
       "      <td>5</td>\n",
       "      <td>0</td>\n",
       "      <td>0</td>\n",
       "      <td>0</td>\n",
       "      <td>0.0</td>\n",
       "    </tr>\n",
       "    <tr>\n",
       "      <th>3</th>\n",
       "      <td>99023</td>\n",
       "      <td>0</td>\n",
       "      <td>0.914249</td>\n",
       "      <td>55</td>\n",
       "      <td>60601</td>\n",
       "      <td>4</td>\n",
       "      <td>0.794875</td>\n",
       "      <td>9052.0</td>\n",
       "      <td>12</td>\n",
       "      <td>0</td>\n",
       "      <td>3</td>\n",
       "      <td>0</td>\n",
       "      <td>0.0</td>\n",
       "    </tr>\n",
       "    <tr>\n",
       "      <th>4</th>\n",
       "      <td>99027</td>\n",
       "      <td>0</td>\n",
       "      <td>0.026599</td>\n",
       "      <td>45</td>\n",
       "      <td>60601</td>\n",
       "      <td>0</td>\n",
       "      <td>0.049966</td>\n",
       "      <td>10406.0</td>\n",
       "      <td>4</td>\n",
       "      <td>0</td>\n",
       "      <td>0</td>\n",
       "      <td>0</td>\n",
       "      <td>2.0</td>\n",
       "    </tr>\n",
       "  </tbody>\n",
       "</table>\n",
       "</div>"
      ],
      "text/plain": [
       "  PersonID  SeriousDlqin2yrs  RevolvingUtilizationOfUnsecuredLines  age  \\\n",
       "0    98976                 0                              1.000000   55   \n",
       "1    98991                 0                              0.547745   71   \n",
       "2    99012                 0                              0.044280   51   \n",
       "3    99023                 0                              0.914249   55   \n",
       "4    99027                 0                              0.026599   45   \n",
       "\n",
       "  zipcode  NumberOfTime30-59DaysPastDueNotWorse   DebtRatio  MonthlyIncome  \\\n",
       "0   60601                                     0  505.000000            0.0   \n",
       "1   60601                                     0    0.459565        15666.0   \n",
       "2   60601                                     0    0.014520         4200.0   \n",
       "3   60601                                     4    0.794875         9052.0   \n",
       "4   60601                                     0    0.049966        10406.0   \n",
       "\n",
       "   NumberOfOpenCreditLinesAndLoans  NumberOfTimes90DaysLate  \\\n",
       "0                                2                        0   \n",
       "1                                7                        0   \n",
       "2                                5                        0   \n",
       "3                               12                        0   \n",
       "4                                4                        0   \n",
       "\n",
       "   NumberRealEstateLoansOrLines  NumberOfTime60-89DaysPastDueNotWorse  \\\n",
       "0                             0                                     0   \n",
       "1                             2                                     0   \n",
       "2                             0                                     0   \n",
       "3                             3                                     0   \n",
       "4                             0                                     0   \n",
       "\n",
       "   NumberOfDependents  \n",
       "0                 0.0  \n",
       "1                 0.0  \n",
       "2                 0.0  \n",
       "3                 0.0  \n",
       "4                 2.0  "
      ]
     },
     "execution_count": 4,
     "metadata": {},
     "output_type": "execute_result"
    }
   ],
   "source": [
    "# Read data\n",
    "coltypes = {'PersonID': str, \n",
    "            'SeriousDlqin2yrs': int,\n",
    "            'RevolvingUtilizationOfUnsecuredLines': float,\n",
    "            'age': int,\n",
    "            'zipcode': str}\n",
    "data = pd.read_csv(data_file, dtype=coltypes)\n",
    "data.head()"
   ]
  },
  {
   "cell_type": "markdown",
   "metadata": {},
   "source": [
    "# 2) Explore data"
   ]
  },
  {
   "cell_type": "markdown",
   "metadata": {},
   "source": [
    "16.1% of the total sample had serious delinquency in the past 2 years.  \n",
    "Average and median age is around 51 years old."
   ]
  },
  {
   "cell_type": "code",
   "execution_count": 5,
   "metadata": {
    "scrolled": true
   },
   "outputs": [
    {
     "data": {
      "text/html": [
       "<div>\n",
       "<style scoped>\n",
       "    .dataframe tbody tr th:only-of-type {\n",
       "        vertical-align: middle;\n",
       "    }\n",
       "\n",
       "    .dataframe tbody tr th {\n",
       "        vertical-align: top;\n",
       "    }\n",
       "\n",
       "    .dataframe thead th {\n",
       "        text-align: right;\n",
       "    }\n",
       "</style>\n",
       "<table border=\"1\" class=\"dataframe\">\n",
       "  <thead>\n",
       "    <tr style=\"text-align: right;\">\n",
       "      <th></th>\n",
       "      <th>SeriousDlqin2yrs</th>\n",
       "      <th>RevolvingUtilizationOfUnsecuredLines</th>\n",
       "      <th>age</th>\n",
       "      <th>NumberOfTime30-59DaysPastDueNotWorse</th>\n",
       "      <th>DebtRatio</th>\n",
       "      <th>MonthlyIncome</th>\n",
       "      <th>NumberOfOpenCreditLinesAndLoans</th>\n",
       "      <th>NumberOfTimes90DaysLate</th>\n",
       "      <th>NumberRealEstateLoansOrLines</th>\n",
       "      <th>NumberOfTime60-89DaysPastDueNotWorse</th>\n",
       "      <th>NumberOfDependents</th>\n",
       "    </tr>\n",
       "  </thead>\n",
       "  <tbody>\n",
       "    <tr>\n",
       "      <th>count</th>\n",
       "      <td>41016.000000</td>\n",
       "      <td>41016.00000</td>\n",
       "      <td>41016.000000</td>\n",
       "      <td>41016.000000</td>\n",
       "      <td>41016.000000</td>\n",
       "      <td>3.304200e+04</td>\n",
       "      <td>41016.000000</td>\n",
       "      <td>41016.000000</td>\n",
       "      <td>41016.000000</td>\n",
       "      <td>41016.000000</td>\n",
       "      <td>39979.000000</td>\n",
       "    </tr>\n",
       "    <tr>\n",
       "      <th>mean</th>\n",
       "      <td>0.161400</td>\n",
       "      <td>6.37587</td>\n",
       "      <td>51.683489</td>\n",
       "      <td>0.589233</td>\n",
       "      <td>331.458137</td>\n",
       "      <td>6.578996e+03</td>\n",
       "      <td>8.403477</td>\n",
       "      <td>0.419592</td>\n",
       "      <td>1.008801</td>\n",
       "      <td>0.371587</td>\n",
       "      <td>0.773231</td>\n",
       "    </tr>\n",
       "    <tr>\n",
       "      <th>std</th>\n",
       "      <td>0.367904</td>\n",
       "      <td>221.61895</td>\n",
       "      <td>14.746880</td>\n",
       "      <td>5.205628</td>\n",
       "      <td>1296.109695</td>\n",
       "      <td>1.344683e+04</td>\n",
       "      <td>5.207324</td>\n",
       "      <td>5.190382</td>\n",
       "      <td>1.153826</td>\n",
       "      <td>5.169641</td>\n",
       "      <td>1.121269</td>\n",
       "    </tr>\n",
       "    <tr>\n",
       "      <th>min</th>\n",
       "      <td>0.000000</td>\n",
       "      <td>0.00000</td>\n",
       "      <td>21.000000</td>\n",
       "      <td>0.000000</td>\n",
       "      <td>0.000000</td>\n",
       "      <td>0.000000e+00</td>\n",
       "      <td>0.000000</td>\n",
       "      <td>0.000000</td>\n",
       "      <td>0.000000</td>\n",
       "      <td>0.000000</td>\n",
       "      <td>0.000000</td>\n",
       "    </tr>\n",
       "    <tr>\n",
       "      <th>25%</th>\n",
       "      <td>0.000000</td>\n",
       "      <td>0.03431</td>\n",
       "      <td>41.000000</td>\n",
       "      <td>0.000000</td>\n",
       "      <td>0.176375</td>\n",
       "      <td>3.333000e+03</td>\n",
       "      <td>5.000000</td>\n",
       "      <td>0.000000</td>\n",
       "      <td>0.000000</td>\n",
       "      <td>0.000000</td>\n",
       "      <td>0.000000</td>\n",
       "    </tr>\n",
       "    <tr>\n",
       "      <th>50%</th>\n",
       "      <td>0.000000</td>\n",
       "      <td>0.18973</td>\n",
       "      <td>51.000000</td>\n",
       "      <td>0.000000</td>\n",
       "      <td>0.369736</td>\n",
       "      <td>5.250000e+03</td>\n",
       "      <td>8.000000</td>\n",
       "      <td>0.000000</td>\n",
       "      <td>1.000000</td>\n",
       "      <td>0.000000</td>\n",
       "      <td>0.000000</td>\n",
       "    </tr>\n",
       "    <tr>\n",
       "      <th>75%</th>\n",
       "      <td>0.000000</td>\n",
       "      <td>0.66716</td>\n",
       "      <td>62.000000</td>\n",
       "      <td>0.000000</td>\n",
       "      <td>0.866471</td>\n",
       "      <td>8.055750e+03</td>\n",
       "      <td>11.000000</td>\n",
       "      <td>0.000000</td>\n",
       "      <td>2.000000</td>\n",
       "      <td>0.000000</td>\n",
       "      <td>1.000000</td>\n",
       "    </tr>\n",
       "    <tr>\n",
       "      <th>max</th>\n",
       "      <td>1.000000</td>\n",
       "      <td>22000.00000</td>\n",
       "      <td>109.000000</td>\n",
       "      <td>98.000000</td>\n",
       "      <td>106885.000000</td>\n",
       "      <td>1.794060e+06</td>\n",
       "      <td>56.000000</td>\n",
       "      <td>98.000000</td>\n",
       "      <td>32.000000</td>\n",
       "      <td>98.000000</td>\n",
       "      <td>13.000000</td>\n",
       "    </tr>\n",
       "  </tbody>\n",
       "</table>\n",
       "</div>"
      ],
      "text/plain": [
       "       SeriousDlqin2yrs  RevolvingUtilizationOfUnsecuredLines           age  \\\n",
       "count      41016.000000                           41016.00000  41016.000000   \n",
       "mean           0.161400                               6.37587     51.683489   \n",
       "std            0.367904                             221.61895     14.746880   \n",
       "min            0.000000                               0.00000     21.000000   \n",
       "25%            0.000000                               0.03431     41.000000   \n",
       "50%            0.000000                               0.18973     51.000000   \n",
       "75%            0.000000                               0.66716     62.000000   \n",
       "max            1.000000                           22000.00000    109.000000   \n",
       "\n",
       "       NumberOfTime30-59DaysPastDueNotWorse      DebtRatio  MonthlyIncome  \\\n",
       "count                          41016.000000   41016.000000   3.304200e+04   \n",
       "mean                               0.589233     331.458137   6.578996e+03   \n",
       "std                                5.205628    1296.109695   1.344683e+04   \n",
       "min                                0.000000       0.000000   0.000000e+00   \n",
       "25%                                0.000000       0.176375   3.333000e+03   \n",
       "50%                                0.000000       0.369736   5.250000e+03   \n",
       "75%                                0.000000       0.866471   8.055750e+03   \n",
       "max                               98.000000  106885.000000   1.794060e+06   \n",
       "\n",
       "       NumberOfOpenCreditLinesAndLoans  NumberOfTimes90DaysLate  \\\n",
       "count                     41016.000000             41016.000000   \n",
       "mean                          8.403477                 0.419592   \n",
       "std                           5.207324                 5.190382   \n",
       "min                           0.000000                 0.000000   \n",
       "25%                           5.000000                 0.000000   \n",
       "50%                           8.000000                 0.000000   \n",
       "75%                          11.000000                 0.000000   \n",
       "max                          56.000000                98.000000   \n",
       "\n",
       "       NumberRealEstateLoansOrLines  NumberOfTime60-89DaysPastDueNotWorse  \\\n",
       "count                  41016.000000                          41016.000000   \n",
       "mean                       1.008801                              0.371587   \n",
       "std                        1.153826                              5.169641   \n",
       "min                        0.000000                              0.000000   \n",
       "25%                        0.000000                              0.000000   \n",
       "50%                        1.000000                              0.000000   \n",
       "75%                        2.000000                              0.000000   \n",
       "max                       32.000000                             98.000000   \n",
       "\n",
       "       NumberOfDependents  \n",
       "count        39979.000000  \n",
       "mean             0.773231  \n",
       "std              1.121269  \n",
       "min              0.000000  \n",
       "25%              0.000000  \n",
       "50%              0.000000  \n",
       "75%              1.000000  \n",
       "max             13.000000  "
      ]
     },
     "execution_count": 5,
     "metadata": {},
     "output_type": "execute_result"
    }
   ],
   "source": [
    "# Distribution of all numeric variables\n",
    "data.describe()"
   ]
  },
  {
   "cell_type": "code",
   "execution_count": 6,
   "metadata": {},
   "outputs": [],
   "source": [
    "# Set constants for column names\n",
    "SD = 'SeriousDlqin2yrs'\n",
    "RU = 'RevolvingUtilizationOfUnsecuredLines'\n",
    "MI = 'MonthlyIncome'\n",
    "DR = 'DebtRatio'\n",
    "PASTDUE30_59 = 'NumberOfTime30-59DaysPastDueNotWorse'\n",
    "PASTDUE60_89 = 'NumberOfTime60-89DaysPastDueNotWorse'\n",
    "OPENLOANS = 'NumberOfOpenCreditLinesAndLoans'\n",
    "RELOANS ='NumberRealEstateLoansOrLines'\n",
    "NUMDEP = 'NumberOfDependents'"
   ]
  },
  {
   "cell_type": "markdown",
   "metadata": {},
   "source": [
    "### Higher Revolving Utilization Of Unsecured Lines is highly indicative of serious delinquency"
   ]
  },
  {
   "cell_type": "code",
   "execution_count": 7,
   "metadata": {},
   "outputs": [
    {
     "data": {
      "text/html": [
       "<div>\n",
       "<style scoped>\n",
       "    .dataframe tbody tr th:only-of-type {\n",
       "        vertical-align: middle;\n",
       "    }\n",
       "\n",
       "    .dataframe tbody tr th {\n",
       "        vertical-align: top;\n",
       "    }\n",
       "\n",
       "    .dataframe thead th {\n",
       "        text-align: right;\n",
       "    }\n",
       "</style>\n",
       "<table border=\"1\" class=\"dataframe\">\n",
       "  <thead>\n",
       "    <tr style=\"text-align: right;\">\n",
       "      <th></th>\n",
       "      <th>count</th>\n",
       "      <th>mean</th>\n",
       "      <th>std</th>\n",
       "      <th>min</th>\n",
       "      <th>25%</th>\n",
       "      <th>50%</th>\n",
       "      <th>75%</th>\n",
       "      <th>max</th>\n",
       "    </tr>\n",
       "    <tr>\n",
       "      <th>SeriousDlqin2yrs</th>\n",
       "      <th></th>\n",
       "      <th></th>\n",
       "      <th></th>\n",
       "      <th></th>\n",
       "      <th></th>\n",
       "      <th></th>\n",
       "      <th></th>\n",
       "      <th></th>\n",
       "    </tr>\n",
       "  </thead>\n",
       "  <tbody>\n",
       "    <tr>\n",
       "      <th>0</th>\n",
       "      <td>34396.0</td>\n",
       "      <td>6.821758</td>\n",
       "      <td>234.218185</td>\n",
       "      <td>0.0</td>\n",
       "      <td>0.026347</td>\n",
       "      <td>0.128939</td>\n",
       "      <td>0.483727</td>\n",
       "      <td>22000.0</td>\n",
       "    </tr>\n",
       "    <tr>\n",
       "      <th>1</th>\n",
       "      <td>6620.0</td>\n",
       "      <td>4.059138</td>\n",
       "      <td>138.823604</td>\n",
       "      <td>0.0</td>\n",
       "      <td>0.405447</td>\n",
       "      <td>0.839318</td>\n",
       "      <td>1.000000</td>\n",
       "      <td>8328.0</td>\n",
       "    </tr>\n",
       "  </tbody>\n",
       "</table>\n",
       "</div>"
      ],
      "text/plain": [
       "                    count      mean         std  min       25%       50%  \\\n",
       "SeriousDlqin2yrs                                                           \n",
       "0                 34396.0  6.821758  234.218185  0.0  0.026347  0.128939   \n",
       "1                  6620.0  4.059138  138.823604  0.0  0.405447  0.839318   \n",
       "\n",
       "                       75%      max  \n",
       "SeriousDlqin2yrs                     \n",
       "0                 0.483727  22000.0  \n",
       "1                 1.000000   8328.0  "
      ]
     },
     "execution_count": 7,
     "metadata": {},
     "output_type": "execute_result"
    }
   ],
   "source": [
    "# Summary statistics for Revolving Utilization Of Unsecured Lines\n",
    "# grouped by whether the person had serious delinquency\n",
    "ru = pipeline.summarize_by_group(SD, RU, data)\n",
    "ru"
   ]
  },
  {
   "cell_type": "code",
   "execution_count": 8,
   "metadata": {},
   "outputs": [
    {
     "data": {
      "image/png": "[encoded data removed]",
      "text/plain": [
       "<Figure size 432x288 with 2 Axes>"
      ]
     },
     "metadata": {
      "needs_background": "light"
     },
     "output_type": "display_data"
    }
   ],
   "source": [
    "# Distribution of the variable including and excluding outliers\n",
    "pipeline.plot_dist(SD, RU, data)"
   ]
  },
  {
   "cell_type": "code",
   "execution_count": 9,
   "metadata": {},
   "outputs": [
    {
     "name": "stdout",
     "output_type": "stream",
     "text": [
      "Percentage of people having RevolvingUtilizationOfUnsecuredLines > 2\n",
      "\tfor SeriousDlqin2yrs = 0: 0.0026456564716827538\n",
      "\tfor SeriousDlqin2yrs = 1: 0.006042296072507553\n"
     ]
    },
    {
     "name": "stderr",
     "output_type": "stream",
     "text": [
      "/Users/lzy/Documents/work/study/uchicago/courses/ml/hws/hw2/pipeline.py:30: UserWarning: Boolean Series key will be reindexed to match DataFrame index.\n",
      "  perc = len(data[data[group] == g][data[var] > threshold]) / \\\n"
     ]
    }
   ],
   "source": [
    "# Check percentage of outliers in each group\n",
    "pipeline.perc_outliers(SD, RU, 2, data)"
   ]
  },
  {
   "cell_type": "markdown",
   "metadata": {},
   "source": [
    "### Higher number of times 30-59 days past due and number of times 60-89 days past due are associated with having serious delinquency"
   ]
  },
  {
   "cell_type": "code",
   "execution_count": 10,
   "metadata": {
    "scrolled": true
   },
   "outputs": [
    {
     "data": {
      "text/html": [
       "<div>\n",
       "<style scoped>\n",
       "    .dataframe tbody tr th:only-of-type {\n",
       "        vertical-align: middle;\n",
       "    }\n",
       "\n",
       "    .dataframe tbody tr th {\n",
       "        vertical-align: top;\n",
       "    }\n",
       "\n",
       "    .dataframe thead th {\n",
       "        text-align: right;\n",
       "    }\n",
       "</style>\n",
       "<table border=\"1\" class=\"dataframe\">\n",
       "  <thead>\n",
       "    <tr style=\"text-align: right;\">\n",
       "      <th></th>\n",
       "      <th>count</th>\n",
       "      <th>mean</th>\n",
       "      <th>std</th>\n",
       "      <th>min</th>\n",
       "      <th>25%</th>\n",
       "      <th>50%</th>\n",
       "      <th>75%</th>\n",
       "      <th>max</th>\n",
       "    </tr>\n",
       "    <tr>\n",
       "      <th>SeriousDlqin2yrs</th>\n",
       "      <th></th>\n",
       "      <th></th>\n",
       "      <th></th>\n",
       "      <th></th>\n",
       "      <th></th>\n",
       "      <th></th>\n",
       "      <th></th>\n",
       "      <th></th>\n",
       "    </tr>\n",
       "  </thead>\n",
       "  <tbody>\n",
       "    <tr>\n",
       "      <th>0</th>\n",
       "      <td>34396.0</td>\n",
       "      <td>0.248197</td>\n",
       "      <td>2.373425</td>\n",
       "      <td>0.0</td>\n",
       "      <td>0.0</td>\n",
       "      <td>0.0</td>\n",
       "      <td>0.0</td>\n",
       "      <td>98.0</td>\n",
       "    </tr>\n",
       "    <tr>\n",
       "      <th>1</th>\n",
       "      <td>6620.0</td>\n",
       "      <td>2.361178</td>\n",
       "      <td>11.614687</td>\n",
       "      <td>0.0</td>\n",
       "      <td>0.0</td>\n",
       "      <td>0.0</td>\n",
       "      <td>2.0</td>\n",
       "      <td>98.0</td>\n",
       "    </tr>\n",
       "  </tbody>\n",
       "</table>\n",
       "</div>"
      ],
      "text/plain": [
       "                    count      mean        std  min  25%  50%  75%   max\n",
       "SeriousDlqin2yrs                                                        \n",
       "0                 34396.0  0.248197   2.373425  0.0  0.0  0.0  0.0  98.0\n",
       "1                  6620.0  2.361178  11.614687  0.0  0.0  0.0  2.0  98.0"
      ]
     },
     "execution_count": 10,
     "metadata": {},
     "output_type": "execute_result"
    }
   ],
   "source": [
    "# Summary statistics for the Number Of Time 30-59 Days Past Due \n",
    "# grouped by whether the person had serious delinquency\n",
    "pastdue30_59 = pipeline.summarize_by_group(SD, PASTDUE30_59, data)\n",
    "pastdue30_59"
   ]
  },
  {
   "cell_type": "code",
   "execution_count": 11,
   "metadata": {},
   "outputs": [
    {
     "data": {
      "image/png": "[encoded data removed]",
      "text/plain": [
       "<Figure size 432x288 with 2 Axes>"
      ]
     },
     "metadata": {
      "needs_background": "light"
     },
     "output_type": "display_data"
    }
   ],
   "source": [
    "# Distribution of the variable including and excluding outliers\n",
    "pipeline.plot_dist(SD, PASTDUE30_59, data)"
   ]
  },
  {
   "cell_type": "code",
   "execution_count": 12,
   "metadata": {},
   "outputs": [
    {
     "name": "stdout",
     "output_type": "stream",
     "text": [
      "Percentage of people having NumberOfTime30-59DaysPastDueNotWorse > 5\n",
      "\tfor SeriousDlqin2yrs = 0: 0.001453657402023491\n",
      "\tfor SeriousDlqin2yrs = 1: 0.026586102719033233\n"
     ]
    }
   ],
   "source": [
    "# Check percentage of outliers in each group\n",
    "pipeline.perc_outliers(SD, PASTDUE30_59, 5, data)"
   ]
  },
  {
   "cell_type": "code",
   "execution_count": 13,
   "metadata": {},
   "outputs": [
    {
     "data": {
      "text/html": [
       "<div>\n",
       "<style scoped>\n",
       "    .dataframe tbody tr th:only-of-type {\n",
       "        vertical-align: middle;\n",
       "    }\n",
       "\n",
       "    .dataframe tbody tr th {\n",
       "        vertical-align: top;\n",
       "    }\n",
       "\n",
       "    .dataframe thead th {\n",
       "        text-align: right;\n",
       "    }\n",
       "</style>\n",
       "<table border=\"1\" class=\"dataframe\">\n",
       "  <thead>\n",
       "    <tr style=\"text-align: right;\">\n",
       "      <th></th>\n",
       "      <th>count</th>\n",
       "      <th>mean</th>\n",
       "      <th>std</th>\n",
       "      <th>min</th>\n",
       "      <th>25%</th>\n",
       "      <th>50%</th>\n",
       "      <th>75%</th>\n",
       "      <th>max</th>\n",
       "    </tr>\n",
       "    <tr>\n",
       "      <th>SeriousDlqin2yrs</th>\n",
       "      <th></th>\n",
       "      <th></th>\n",
       "      <th></th>\n",
       "      <th></th>\n",
       "      <th></th>\n",
       "      <th></th>\n",
       "      <th></th>\n",
       "      <th></th>\n",
       "    </tr>\n",
       "  </thead>\n",
       "  <tbody>\n",
       "    <tr>\n",
       "      <th>0</th>\n",
       "      <td>34396.0</td>\n",
       "      <td>0.095156</td>\n",
       "      <td>2.314893</td>\n",
       "      <td>0.0</td>\n",
       "      <td>0.0</td>\n",
       "      <td>0.0</td>\n",
       "      <td>0.0</td>\n",
       "      <td>98.0</td>\n",
       "    </tr>\n",
       "    <tr>\n",
       "      <th>1</th>\n",
       "      <td>6620.0</td>\n",
       "      <td>1.807855</td>\n",
       "      <td>11.631755</td>\n",
       "      <td>0.0</td>\n",
       "      <td>0.0</td>\n",
       "      <td>0.0</td>\n",
       "      <td>1.0</td>\n",
       "      <td>98.0</td>\n",
       "    </tr>\n",
       "  </tbody>\n",
       "</table>\n",
       "</div>"
      ],
      "text/plain": [
       "                    count      mean        std  min  25%  50%  75%   max\n",
       "SeriousDlqin2yrs                                                        \n",
       "0                 34396.0  0.095156   2.314893  0.0  0.0  0.0  0.0  98.0\n",
       "1                  6620.0  1.807855  11.631755  0.0  0.0  0.0  1.0  98.0"
      ]
     },
     "execution_count": 13,
     "metadata": {},
     "output_type": "execute_result"
    }
   ],
   "source": [
    "# Summary statistics for the Number Of Time 60-89 Days Past Due \n",
    "# grouped by whether the person had serious delinquency\n",
    "pastdue60_89 = pipeline.summarize_by_group(SD, PASTDUE60_89, data)\n",
    "pastdue60_89"
   ]
  },
  {
   "cell_type": "code",
   "execution_count": 14,
   "metadata": {},
   "outputs": [
    {
     "data": {
      "image/png": "[encoded data removed]",
      "text/plain": [
       "<Figure size 432x288 with 2 Axes>"
      ]
     },
     "metadata": {
      "needs_background": "light"
     },
     "output_type": "display_data"
    }
   ],
   "source": [
    "# Distribution of the variable including and excluding outliers\n",
    "pipeline.plot_dist(SD, PASTDUE60_89, data)"
   ]
  },
  {
   "cell_type": "code",
   "execution_count": 15,
   "metadata": {},
   "outputs": [
    {
     "name": "stdout",
     "output_type": "stream",
     "text": [
      "Percentage of people having NumberOfTime30-59DaysPastDueNotWorse > 2\n",
      "\tfor SeriousDlqin2yrs = 0: 0.013519013838818468\n",
      "\tfor SeriousDlqin2yrs = 1: 0.13459214501510575\n"
     ]
    }
   ],
   "source": [
    "# Percentage of outliers in each group\n",
    "pipeline.perc_outliers(SD, PASTDUE30_59, 2 , data)"
   ]
  },
  {
   "cell_type": "markdown",
   "metadata": {},
   "source": [
    "### Debt Ratio alone gives little information "
   ]
  },
  {
   "cell_type": "markdown",
   "metadata": {},
   "source": [
    "Debt ratio alone does not give much information about likelihood to have serious delinquencies, mostly because there is a huge variance in debt ratios for both people with and without serious delinqencies. \n",
    "\n",
    "Median debt ratio is higher (42.7%) for people with serious delinquencies than that for people without (36.0%). However, 11.3% people without serious delinquencies have a debt ratio larger than 1000, which is higher than the percentage for people with serious delinquencies（8.0%).\n"
   ]
  },
  {
   "cell_type": "code",
   "execution_count": 16,
   "metadata": {},
   "outputs": [
    {
     "data": {
      "text/html": [
       "<div>\n",
       "<style scoped>\n",
       "    .dataframe tbody tr th:only-of-type {\n",
       "        vertical-align: middle;\n",
       "    }\n",
       "\n",
       "    .dataframe tbody tr th {\n",
       "        vertical-align: top;\n",
       "    }\n",
       "\n",
       "    .dataframe thead th {\n",
       "        text-align: right;\n",
       "    }\n",
       "</style>\n",
       "<table border=\"1\" class=\"dataframe\">\n",
       "  <thead>\n",
       "    <tr style=\"text-align: right;\">\n",
       "      <th></th>\n",
       "      <th>count</th>\n",
       "      <th>mean</th>\n",
       "      <th>std</th>\n",
       "      <th>min</th>\n",
       "      <th>25%</th>\n",
       "      <th>50%</th>\n",
       "      <th>75%</th>\n",
       "      <th>max</th>\n",
       "    </tr>\n",
       "    <tr>\n",
       "      <th>SeriousDlqin2yrs</th>\n",
       "      <th></th>\n",
       "      <th></th>\n",
       "      <th></th>\n",
       "      <th></th>\n",
       "      <th></th>\n",
       "      <th></th>\n",
       "      <th></th>\n",
       "      <th></th>\n",
       "    </tr>\n",
       "  </thead>\n",
       "  <tbody>\n",
       "    <tr>\n",
       "      <th>0</th>\n",
       "      <td>34396.0</td>\n",
       "      <td>339.135574</td>\n",
       "      <td>1301.472391</td>\n",
       "      <td>0.0</td>\n",
       "      <td>0.172103</td>\n",
       "      <td>0.359875</td>\n",
       "      <td>0.860747</td>\n",
       "      <td>106885.0</td>\n",
       "    </tr>\n",
       "    <tr>\n",
       "      <th>1</th>\n",
       "      <td>6620.0</td>\n",
       "      <td>291.567939</td>\n",
       "      <td>1267.229353</td>\n",
       "      <td>0.0</td>\n",
       "      <td>0.196992</td>\n",
       "      <td>0.426882</td>\n",
       "      <td>0.895111</td>\n",
       "      <td>38793.0</td>\n",
       "    </tr>\n",
       "  </tbody>\n",
       "</table>\n",
       "</div>"
      ],
      "text/plain": [
       "                    count        mean          std  min       25%       50%  \\\n",
       "SeriousDlqin2yrs                                                              \n",
       "0                 34396.0  339.135574  1301.472391  0.0  0.172103  0.359875   \n",
       "1                  6620.0  291.567939  1267.229353  0.0  0.196992  0.426882   \n",
       "\n",
       "                       75%       max  \n",
       "SeriousDlqin2yrs                      \n",
       "0                 0.860747  106885.0  \n",
       "1                 0.895111   38793.0  "
      ]
     },
     "execution_count": 16,
     "metadata": {},
     "output_type": "execute_result"
    }
   ],
   "source": [
    "# Summary statistics for debt ratio\n",
    "# grouped by whether the person had serious delinquency\n",
    "dr = pipeline.summarize_by_group(SD, DR, data)\n",
    "dr"
   ]
  },
  {
   "cell_type": "code",
   "execution_count": 17,
   "metadata": {},
   "outputs": [
    {
     "data": {
      "image/png": "[encoded data removed]",
      "text/plain": [
       "<Figure size 432x288 with 2 Axes>"
      ]
     },
     "metadata": {
      "needs_background": "light"
     },
     "output_type": "display_data"
    }
   ],
   "source": [
    "# Distribution of the variable including and excluding outliers\n",
    "pipeline.plot_dist(SD, DR, data)"
   ]
  },
  {
   "cell_type": "code",
   "execution_count": 18,
   "metadata": {},
   "outputs": [
    {
     "name": "stdout",
     "output_type": "stream",
     "text": [
      "Percentage of people having DebtRatio > 2\n",
      "\tfor SeriousDlqin2yrs = 0: 0.2078148621932783\n",
      "\tfor SeriousDlqin2yrs = 1: 0.17341389728096676\n"
     ]
    }
   ],
   "source": [
    "# Check percentage of outliers in each group\n",
    "pipeline.perc_outliers(SD, DR, 2, data)"
   ]
  },
  {
   "cell_type": "markdown",
   "metadata": {},
   "source": [
    "### People with serious delinquencies has a lower median monthly income within a much smaller range than people without "
   ]
  },
  {
   "cell_type": "code",
   "execution_count": 19,
   "metadata": {},
   "outputs": [
    {
     "data": {
      "text/html": [
       "<div>\n",
       "<style scoped>\n",
       "    .dataframe tbody tr th:only-of-type {\n",
       "        vertical-align: middle;\n",
       "    }\n",
       "\n",
       "    .dataframe tbody tr th {\n",
       "        vertical-align: top;\n",
       "    }\n",
       "\n",
       "    .dataframe thead th {\n",
       "        text-align: right;\n",
       "    }\n",
       "</style>\n",
       "<table border=\"1\" class=\"dataframe\">\n",
       "  <thead>\n",
       "    <tr style=\"text-align: right;\">\n",
       "      <th></th>\n",
       "      <th>count</th>\n",
       "      <th>mean</th>\n",
       "      <th>std</th>\n",
       "      <th>min</th>\n",
       "      <th>25%</th>\n",
       "      <th>50%</th>\n",
       "      <th>75%</th>\n",
       "      <th>max</th>\n",
       "    </tr>\n",
       "    <tr>\n",
       "      <th>SeriousDlqin2yrs</th>\n",
       "      <th></th>\n",
       "      <th></th>\n",
       "      <th></th>\n",
       "      <th></th>\n",
       "      <th></th>\n",
       "      <th></th>\n",
       "      <th></th>\n",
       "      <th></th>\n",
       "    </tr>\n",
       "  </thead>\n",
       "  <tbody>\n",
       "    <tr>\n",
       "      <th>0</th>\n",
       "      <td>27514.0</td>\n",
       "      <td>6776.748201</td>\n",
       "      <td>14435.322958</td>\n",
       "      <td>0.0</td>\n",
       "      <td>3450.0</td>\n",
       "      <td>5475.0</td>\n",
       "      <td>8333.00</td>\n",
       "      <td>1794060.0</td>\n",
       "    </tr>\n",
       "    <tr>\n",
       "      <th>1</th>\n",
       "      <td>5528.0</td>\n",
       "      <td>5594.740774</td>\n",
       "      <td>6518.244005</td>\n",
       "      <td>0.0</td>\n",
       "      <td>2940.0</td>\n",
       "      <td>4500.0</td>\n",
       "      <td>6811.75</td>\n",
       "      <td>250000.0</td>\n",
       "    </tr>\n",
       "  </tbody>\n",
       "</table>\n",
       "</div>"
      ],
      "text/plain": [
       "                    count         mean           std  min     25%     50%  \\\n",
       "SeriousDlqin2yrs                                                            \n",
       "0                 27514.0  6776.748201  14435.322958  0.0  3450.0  5475.0   \n",
       "1                  5528.0  5594.740774   6518.244005  0.0  2940.0  4500.0   \n",
       "\n",
       "                      75%        max  \n",
       "SeriousDlqin2yrs                      \n",
       "0                 8333.00  1794060.0  \n",
       "1                 6811.75   250000.0  "
      ]
     },
     "execution_count": 19,
     "metadata": {},
     "output_type": "execute_result"
    }
   ],
   "source": [
    "# Summary statistics for median income\n",
    "# grouped by whether the person had serious delinquency\n",
    "mi = pipeline.summarize_by_group(SD, MI, data)\n",
    "mi"
   ]
  },
  {
   "cell_type": "code",
   "execution_count": 20,
   "metadata": {},
   "outputs": [
    {
     "data": {
      "image/png": "[encoded data removed]",
      "text/plain": [
       "<Figure size 432x288 with 2 Axes>"
      ]
     },
     "metadata": {
      "needs_background": "light"
     },
     "output_type": "display_data"
    }
   ],
   "source": [
    "# Distribution of the variable including and excluding outliers\n",
    "pipeline.plot_dist(SD, MI, data)"
   ]
  },
  {
   "cell_type": "code",
   "execution_count": 21,
   "metadata": {},
   "outputs": [
    {
     "name": "stdout",
     "output_type": "stream",
     "text": [
      "Percentage of people having MonthlyIncome > 16000\n",
      "\tfor SeriousDlqin2yrs = 0: 0.030381439702290965\n",
      "\tfor SeriousDlqin2yrs = 1: 0.01918429003021148\n"
     ]
    }
   ],
   "source": [
    "# Check percentage of outliers in each group\n",
    "pipeline.perc_outliers(SD, MI, 16000, data)"
   ]
  },
  {
   "cell_type": "markdown",
   "metadata": {},
   "source": [
    "### Neither number of open credit lines / loans and number of mortgage / real estate loans have little to do with having serious delinquencies"
   ]
  },
  {
   "cell_type": "code",
   "execution_count": 22,
   "metadata": {},
   "outputs": [
    {
     "data": {
      "text/html": [
       "<div>\n",
       "<style scoped>\n",
       "    .dataframe tbody tr th:only-of-type {\n",
       "        vertical-align: middle;\n",
       "    }\n",
       "\n",
       "    .dataframe tbody tr th {\n",
       "        vertical-align: top;\n",
       "    }\n",
       "\n",
       "    .dataframe thead th {\n",
       "        text-align: right;\n",
       "    }\n",
       "</style>\n",
       "<table border=\"1\" class=\"dataframe\">\n",
       "  <thead>\n",
       "    <tr style=\"text-align: right;\">\n",
       "      <th></th>\n",
       "      <th>count</th>\n",
       "      <th>mean</th>\n",
       "      <th>std</th>\n",
       "      <th>min</th>\n",
       "      <th>25%</th>\n",
       "      <th>50%</th>\n",
       "      <th>75%</th>\n",
       "      <th>max</th>\n",
       "    </tr>\n",
       "    <tr>\n",
       "      <th>SeriousDlqin2yrs</th>\n",
       "      <th></th>\n",
       "      <th></th>\n",
       "      <th></th>\n",
       "      <th></th>\n",
       "      <th></th>\n",
       "      <th></th>\n",
       "      <th></th>\n",
       "      <th></th>\n",
       "    </tr>\n",
       "  </thead>\n",
       "  <tbody>\n",
       "    <tr>\n",
       "      <th>0</th>\n",
       "      <td>34396.0</td>\n",
       "      <td>8.494621</td>\n",
       "      <td>5.116000</td>\n",
       "      <td>0.0</td>\n",
       "      <td>5.0</td>\n",
       "      <td>8.0</td>\n",
       "      <td>11.0</td>\n",
       "      <td>56.0</td>\n",
       "    </tr>\n",
       "    <tr>\n",
       "      <th>1</th>\n",
       "      <td>6620.0</td>\n",
       "      <td>7.929909</td>\n",
       "      <td>5.634878</td>\n",
       "      <td>0.0</td>\n",
       "      <td>4.0</td>\n",
       "      <td>7.0</td>\n",
       "      <td>11.0</td>\n",
       "      <td>52.0</td>\n",
       "    </tr>\n",
       "  </tbody>\n",
       "</table>\n",
       "</div>"
      ],
      "text/plain": [
       "                    count      mean       std  min  25%  50%   75%   max\n",
       "SeriousDlqin2yrs                                                        \n",
       "0                 34396.0  8.494621  5.116000  0.0  5.0  8.0  11.0  56.0\n",
       "1                  6620.0  7.929909  5.634878  0.0  4.0  7.0  11.0  52.0"
      ]
     },
     "execution_count": 22,
     "metadata": {},
     "output_type": "execute_result"
    }
   ],
   "source": [
    "# Summary statistics for number of open credit lines and or loans\n",
    "# grouped by whether the person had serious delinquency\n",
    "openloans = pipeline.summarize_by_group(SD, OPENLOANS, data)\n",
    "openloans"
   ]
  },
  {
   "cell_type": "code",
   "execution_count": 23,
   "metadata": {},
   "outputs": [
    {
     "data": {
      "image/png": "[encoded data removed]",
      "text/plain": [
       "<Figure size 432x288 with 2 Axes>"
      ]
     },
     "metadata": {
      "needs_background": "light"
     },
     "output_type": "display_data"
    }
   ],
   "source": [
    "# Distribution of the variable including and excluding outliers\n",
    "pipeline.plot_dist(SD, OPENLOANS, data)"
   ]
  },
  {
   "cell_type": "code",
   "execution_count": 24,
   "metadata": {},
   "outputs": [
    {
     "name": "stdout",
     "output_type": "stream",
     "text": [
      "Percentage of people having NumberOfOpenCreditLinesAndLoans > 25\n",
      "\tfor SeriousDlqin2yrs = 0: 0.007704384230724503\n",
      "\tfor SeriousDlqin2yrs = 1: 0.008610271903323263\n"
     ]
    }
   ],
   "source": [
    "# Check percentage of outliers in each group\n",
    "pipeline.perc_outliers(SD, OPENLOANS, 25, data)"
   ]
  },
  {
   "cell_type": "code",
   "execution_count": 25,
   "metadata": {},
   "outputs": [
    {
     "data": {
      "text/html": [
       "<div>\n",
       "<style scoped>\n",
       "    .dataframe tbody tr th:only-of-type {\n",
       "        vertical-align: middle;\n",
       "    }\n",
       "\n",
       "    .dataframe tbody tr th {\n",
       "        vertical-align: top;\n",
       "    }\n",
       "\n",
       "    .dataframe thead th {\n",
       "        text-align: right;\n",
       "    }\n",
       "</style>\n",
       "<table border=\"1\" class=\"dataframe\">\n",
       "  <thead>\n",
       "    <tr style=\"text-align: right;\">\n",
       "      <th></th>\n",
       "      <th>count</th>\n",
       "      <th>mean</th>\n",
       "      <th>std</th>\n",
       "      <th>min</th>\n",
       "      <th>25%</th>\n",
       "      <th>50%</th>\n",
       "      <th>75%</th>\n",
       "      <th>max</th>\n",
       "    </tr>\n",
       "    <tr>\n",
       "      <th>SeriousDlqin2yrs</th>\n",
       "      <th></th>\n",
       "      <th></th>\n",
       "      <th></th>\n",
       "      <th></th>\n",
       "      <th></th>\n",
       "      <th></th>\n",
       "      <th></th>\n",
       "      <th></th>\n",
       "    </tr>\n",
       "  </thead>\n",
       "  <tbody>\n",
       "    <tr>\n",
       "      <th>0</th>\n",
       "      <td>34396.0</td>\n",
       "      <td>1.014188</td>\n",
       "      <td>1.102338</td>\n",
       "      <td>0.0</td>\n",
       "      <td>0.0</td>\n",
       "      <td>1.0</td>\n",
       "      <td>2.0</td>\n",
       "      <td>32.0</td>\n",
       "    </tr>\n",
       "    <tr>\n",
       "      <th>1</th>\n",
       "      <td>6620.0</td>\n",
       "      <td>0.980816</td>\n",
       "      <td>1.390760</td>\n",
       "      <td>0.0</td>\n",
       "      <td>0.0</td>\n",
       "      <td>1.0</td>\n",
       "      <td>2.0</td>\n",
       "      <td>25.0</td>\n",
       "    </tr>\n",
       "  </tbody>\n",
       "</table>\n",
       "</div>"
      ],
      "text/plain": [
       "                    count      mean       std  min  25%  50%  75%   max\n",
       "SeriousDlqin2yrs                                                       \n",
       "0                 34396.0  1.014188  1.102338  0.0  0.0  1.0  2.0  32.0\n",
       "1                  6620.0  0.980816  1.390760  0.0  0.0  1.0  2.0  25.0"
      ]
     },
     "execution_count": 25,
     "metadata": {},
     "output_type": "execute_result"
    }
   ],
   "source": [
    "# Summary statistics for number of mortgage or real estate loans\n",
    "# grouped by whether the person had serious delinquency\n",
    "reloans = pipeline.summarize_by_group(SD, RELOANS, data)\n",
    "reloans"
   ]
  },
  {
   "cell_type": "code",
   "execution_count": 26,
   "metadata": {},
   "outputs": [
    {
     "data": {
      "image/png": "[encoded data removed]",
      "text/plain": [
       "<Figure size 432x288 with 2 Axes>"
      ]
     },
     "metadata": {
      "needs_background": "light"
     },
     "output_type": "display_data"
    }
   ],
   "source": [
    "# Distribution of the variable including and excluding outliers\n",
    "pipeline.plot_dist(SD, RELOANS, data)"
   ]
  },
  {
   "cell_type": "markdown",
   "metadata": {},
   "source": [
    "# 3) Pre-Process Data"
   ]
  },
  {
   "cell_type": "code",
   "execution_count": 27,
   "metadata": {},
   "outputs": [],
   "source": [
    "# Fill columns with NA values with median of that variable\n",
    "data = pipeline.fill_na_with_median(data)"
   ]
  },
  {
   "cell_type": "code",
   "execution_count": 28,
   "metadata": {},
   "outputs": [
    {
     "data": {
      "text/plain": [
       "PersonID                                False\n",
       "SeriousDlqin2yrs                        False\n",
       "RevolvingUtilizationOfUnsecuredLines    False\n",
       "age                                     False\n",
       "zipcode                                 False\n",
       "NumberOfTime30-59DaysPastDueNotWorse    False\n",
       "DebtRatio                               False\n",
       "MonthlyIncome                           False\n",
       "NumberOfOpenCreditLinesAndLoans         False\n",
       "NumberOfTimes90DaysLate                 False\n",
       "NumberRealEstateLoansOrLines            False\n",
       "NumberOfTime60-89DaysPastDueNotWorse    False\n",
       "NumberOfDependents                      False\n",
       "dtype: bool"
      ]
     },
     "execution_count": 28,
     "metadata": {},
     "output_type": "execute_result"
    }
   ],
   "source": [
    "# Check there is no NA values\n",
    "data.isna().any()"
   ]
  },
  {
   "cell_type": "markdown",
   "metadata": {},
   "source": [
    "# 4) Generate Features/Predictors"
   ]
  },
  {
   "cell_type": "markdown",
   "metadata": {},
   "source": [
    "Generate *Revolving Utilization Of Unsecured Lines* into features"
   ]
  },
  {
   "cell_type": "code",
   "execution_count": 29,
   "metadata": {},
   "outputs": [
    {
     "data": {
      "text/html": [
       "<div>\n",
       "<style scoped>\n",
       "    .dataframe tbody tr th:only-of-type {\n",
       "        vertical-align: middle;\n",
       "    }\n",
       "\n",
       "    .dataframe tbody tr th {\n",
       "        vertical-align: top;\n",
       "    }\n",
       "\n",
       "    .dataframe thead th {\n",
       "        text-align: right;\n",
       "    }\n",
       "</style>\n",
       "<table border=\"1\" class=\"dataframe\">\n",
       "  <thead>\n",
       "    <tr style=\"text-align: right;\">\n",
       "      <th></th>\n",
       "      <th>PersonID</th>\n",
       "      <th>SeriousDlqin2yrs</th>\n",
       "      <th>RevolvingUtilizationOfUnsecuredLines</th>\n",
       "      <th>age</th>\n",
       "      <th>zipcode</th>\n",
       "      <th>NumberOfTime30-59DaysPastDueNotWorse</th>\n",
       "      <th>DebtRatio</th>\n",
       "      <th>MonthlyIncome</th>\n",
       "      <th>NumberOfOpenCreditLinesAndLoans</th>\n",
       "      <th>NumberOfTimes90DaysLate</th>\n",
       "      <th>NumberRealEstateLoansOrLines</th>\n",
       "      <th>NumberOfTime60-89DaysPastDueNotWorse</th>\n",
       "      <th>NumberOfDependents</th>\n",
       "      <th>RevolvingUtilizationOfUnsecuredLines_cat</th>\n",
       "    </tr>\n",
       "  </thead>\n",
       "  <tbody>\n",
       "    <tr>\n",
       "      <th>0</th>\n",
       "      <td>98976</td>\n",
       "      <td>0</td>\n",
       "      <td>1.000000</td>\n",
       "      <td>55</td>\n",
       "      <td>60601</td>\n",
       "      <td>0</td>\n",
       "      <td>505.000000</td>\n",
       "      <td>0.0</td>\n",
       "      <td>2</td>\n",
       "      <td>0</td>\n",
       "      <td>0</td>\n",
       "      <td>0</td>\n",
       "      <td>0.0</td>\n",
       "      <td>0.5-1.0</td>\n",
       "    </tr>\n",
       "    <tr>\n",
       "      <th>1</th>\n",
       "      <td>98991</td>\n",
       "      <td>0</td>\n",
       "      <td>0.547745</td>\n",
       "      <td>71</td>\n",
       "      <td>60601</td>\n",
       "      <td>0</td>\n",
       "      <td>0.459565</td>\n",
       "      <td>15666.0</td>\n",
       "      <td>7</td>\n",
       "      <td>0</td>\n",
       "      <td>2</td>\n",
       "      <td>0</td>\n",
       "      <td>0.0</td>\n",
       "      <td>0.5-1.0</td>\n",
       "    </tr>\n",
       "    <tr>\n",
       "      <th>2</th>\n",
       "      <td>99012</td>\n",
       "      <td>0</td>\n",
       "      <td>0.044280</td>\n",
       "      <td>51</td>\n",
       "      <td>60601</td>\n",
       "      <td>0</td>\n",
       "      <td>0.014520</td>\n",
       "      <td>4200.0</td>\n",
       "      <td>5</td>\n",
       "      <td>0</td>\n",
       "      <td>0</td>\n",
       "      <td>0</td>\n",
       "      <td>0.0</td>\n",
       "      <td>&lt;0.5</td>\n",
       "    </tr>\n",
       "    <tr>\n",
       "      <th>3</th>\n",
       "      <td>99023</td>\n",
       "      <td>0</td>\n",
       "      <td>0.914249</td>\n",
       "      <td>55</td>\n",
       "      <td>60601</td>\n",
       "      <td>4</td>\n",
       "      <td>0.794875</td>\n",
       "      <td>9052.0</td>\n",
       "      <td>12</td>\n",
       "      <td>0</td>\n",
       "      <td>3</td>\n",
       "      <td>0</td>\n",
       "      <td>0.0</td>\n",
       "      <td>0.5-1.0</td>\n",
       "    </tr>\n",
       "    <tr>\n",
       "      <th>4</th>\n",
       "      <td>99027</td>\n",
       "      <td>0</td>\n",
       "      <td>0.026599</td>\n",
       "      <td>45</td>\n",
       "      <td>60601</td>\n",
       "      <td>0</td>\n",
       "      <td>0.049966</td>\n",
       "      <td>10406.0</td>\n",
       "      <td>4</td>\n",
       "      <td>0</td>\n",
       "      <td>0</td>\n",
       "      <td>0</td>\n",
       "      <td>2.0</td>\n",
       "      <td>&lt;0.5</td>\n",
       "    </tr>\n",
       "  </tbody>\n",
       "</table>\n",
       "</div>"
      ],
      "text/plain": [
       "  PersonID  SeriousDlqin2yrs  RevolvingUtilizationOfUnsecuredLines  age  \\\n",
       "0    98976                 0                              1.000000   55   \n",
       "1    98991                 0                              0.547745   71   \n",
       "2    99012                 0                              0.044280   51   \n",
       "3    99023                 0                              0.914249   55   \n",
       "4    99027                 0                              0.026599   45   \n",
       "\n",
       "  zipcode  NumberOfTime30-59DaysPastDueNotWorse   DebtRatio  MonthlyIncome  \\\n",
       "0   60601                                     0  505.000000            0.0   \n",
       "1   60601                                     0    0.459565        15666.0   \n",
       "2   60601                                     0    0.014520         4200.0   \n",
       "3   60601                                     4    0.794875         9052.0   \n",
       "4   60601                                     0    0.049966        10406.0   \n",
       "\n",
       "   NumberOfOpenCreditLinesAndLoans  NumberOfTimes90DaysLate  \\\n",
       "0                                2                        0   \n",
       "1                                7                        0   \n",
       "2                                5                        0   \n",
       "3                               12                        0   \n",
       "4                                4                        0   \n",
       "\n",
       "   NumberRealEstateLoansOrLines  NumberOfTime60-89DaysPastDueNotWorse  \\\n",
       "0                             0                                     0   \n",
       "1                             2                                     0   \n",
       "2                             0                                     0   \n",
       "3                             3                                     0   \n",
       "4                             0                                     0   \n",
       "\n",
       "   NumberOfDependents RevolvingUtilizationOfUnsecuredLines_cat  \n",
       "0                 0.0                                  0.5-1.0  \n",
       "1                 0.0                                  0.5-1.0  \n",
       "2                 0.0                                     <0.5  \n",
       "3                 0.0                                  0.5-1.0  \n",
       "4                 2.0                                     <0.5  "
      ]
     },
     "execution_count": 29,
     "metadata": {},
     "output_type": "execute_result"
    }
   ],
   "source": [
    "# Discretize continuous variable Revolving Utilization Of Unsecured Lines into 5 categories\n",
    "RUCAT = 'RevolvingUtilizationOfUnsecuredLines_cat'\n",
    "RU_bins = [0.0, 0.5, 1.0, 1.5, 2.0, np.inf]\n",
    "RU_labels = ['<0.5', '0.5-1.0', '1.0-1.5', '1.5-2.0', '>2.0']\n",
    "data[RUCAT] = pipeline.discretize(RU, data, bins=RU_bins, labels=RU_labels)\n",
    "data.head()"
   ]
  },
  {
   "cell_type": "code",
   "execution_count": 30,
   "metadata": {
    "scrolled": false
   },
   "outputs": [
    {
     "data": {
      "text/html": [
       "<div>\n",
       "<style scoped>\n",
       "    .dataframe tbody tr th:only-of-type {\n",
       "        vertical-align: middle;\n",
       "    }\n",
       "\n",
       "    .dataframe tbody tr th {\n",
       "        vertical-align: top;\n",
       "    }\n",
       "\n",
       "    .dataframe thead th {\n",
       "        text-align: right;\n",
       "    }\n",
       "</style>\n",
       "<table border=\"1\" class=\"dataframe\">\n",
       "  <thead>\n",
       "    <tr style=\"text-align: right;\">\n",
       "      <th></th>\n",
       "      <th>PersonID</th>\n",
       "      <th>SeriousDlqin2yrs</th>\n",
       "      <th>RevolvingUtilizationOfUnsecuredLines</th>\n",
       "      <th>age</th>\n",
       "      <th>zipcode</th>\n",
       "      <th>NumberOfTime30-59DaysPastDueNotWorse</th>\n",
       "      <th>DebtRatio</th>\n",
       "      <th>MonthlyIncome</th>\n",
       "      <th>NumberOfOpenCreditLinesAndLoans</th>\n",
       "      <th>NumberOfTimes90DaysLate</th>\n",
       "      <th>NumberRealEstateLoansOrLines</th>\n",
       "      <th>NumberOfTime60-89DaysPastDueNotWorse</th>\n",
       "      <th>NumberOfDependents</th>\n",
       "      <th>RevolvingUtilizationOfUnsecuredLines_cat</th>\n",
       "      <th>RevolvingUtilizationOfUnsecuredLines_cat_&lt;0.5</th>\n",
       "      <th>RevolvingUtilizationOfUnsecuredLines_cat_0.5-1.0</th>\n",
       "      <th>RevolvingUtilizationOfUnsecuredLines_cat_1.0-1.5</th>\n",
       "      <th>RevolvingUtilizationOfUnsecuredLines_cat_1.5-2.0</th>\n",
       "      <th>RevolvingUtilizationOfUnsecuredLines_cat_&gt;2.0</th>\n",
       "    </tr>\n",
       "  </thead>\n",
       "  <tbody>\n",
       "    <tr>\n",
       "      <th>0</th>\n",
       "      <td>98976</td>\n",
       "      <td>0</td>\n",
       "      <td>1.000000</td>\n",
       "      <td>55</td>\n",
       "      <td>60601</td>\n",
       "      <td>0</td>\n",
       "      <td>505.000000</td>\n",
       "      <td>0.0</td>\n",
       "      <td>2</td>\n",
       "      <td>0</td>\n",
       "      <td>0</td>\n",
       "      <td>0</td>\n",
       "      <td>0.0</td>\n",
       "      <td>0.5-1.0</td>\n",
       "      <td>0</td>\n",
       "      <td>1</td>\n",
       "      <td>0</td>\n",
       "      <td>0</td>\n",
       "      <td>0</td>\n",
       "    </tr>\n",
       "    <tr>\n",
       "      <th>1</th>\n",
       "      <td>98991</td>\n",
       "      <td>0</td>\n",
       "      <td>0.547745</td>\n",
       "      <td>71</td>\n",
       "      <td>60601</td>\n",
       "      <td>0</td>\n",
       "      <td>0.459565</td>\n",
       "      <td>15666.0</td>\n",
       "      <td>7</td>\n",
       "      <td>0</td>\n",
       "      <td>2</td>\n",
       "      <td>0</td>\n",
       "      <td>0.0</td>\n",
       "      <td>0.5-1.0</td>\n",
       "      <td>0</td>\n",
       "      <td>1</td>\n",
       "      <td>0</td>\n",
       "      <td>0</td>\n",
       "      <td>0</td>\n",
       "    </tr>\n",
       "    <tr>\n",
       "      <th>2</th>\n",
       "      <td>99012</td>\n",
       "      <td>0</td>\n",
       "      <td>0.044280</td>\n",
       "      <td>51</td>\n",
       "      <td>60601</td>\n",
       "      <td>0</td>\n",
       "      <td>0.014520</td>\n",
       "      <td>4200.0</td>\n",
       "      <td>5</td>\n",
       "      <td>0</td>\n",
       "      <td>0</td>\n",
       "      <td>0</td>\n",
       "      <td>0.0</td>\n",
       "      <td>&lt;0.5</td>\n",
       "      <td>1</td>\n",
       "      <td>0</td>\n",
       "      <td>0</td>\n",
       "      <td>0</td>\n",
       "      <td>0</td>\n",
       "    </tr>\n",
       "    <tr>\n",
       "      <th>3</th>\n",
       "      <td>99023</td>\n",
       "      <td>0</td>\n",
       "      <td>0.914249</td>\n",
       "      <td>55</td>\n",
       "      <td>60601</td>\n",
       "      <td>4</td>\n",
       "      <td>0.794875</td>\n",
       "      <td>9052.0</td>\n",
       "      <td>12</td>\n",
       "      <td>0</td>\n",
       "      <td>3</td>\n",
       "      <td>0</td>\n",
       "      <td>0.0</td>\n",
       "      <td>0.5-1.0</td>\n",
       "      <td>0</td>\n",
       "      <td>1</td>\n",
       "      <td>0</td>\n",
       "      <td>0</td>\n",
       "      <td>0</td>\n",
       "    </tr>\n",
       "    <tr>\n",
       "      <th>4</th>\n",
       "      <td>99027</td>\n",
       "      <td>0</td>\n",
       "      <td>0.026599</td>\n",
       "      <td>45</td>\n",
       "      <td>60601</td>\n",
       "      <td>0</td>\n",
       "      <td>0.049966</td>\n",
       "      <td>10406.0</td>\n",
       "      <td>4</td>\n",
       "      <td>0</td>\n",
       "      <td>0</td>\n",
       "      <td>0</td>\n",
       "      <td>2.0</td>\n",
       "      <td>&lt;0.5</td>\n",
       "      <td>1</td>\n",
       "      <td>0</td>\n",
       "      <td>0</td>\n",
       "      <td>0</td>\n",
       "      <td>0</td>\n",
       "    </tr>\n",
       "  </tbody>\n",
       "</table>\n",
       "</div>"
      ],
      "text/plain": [
       "  PersonID  SeriousDlqin2yrs  RevolvingUtilizationOfUnsecuredLines  age  \\\n",
       "0    98976                 0                              1.000000   55   \n",
       "1    98991                 0                              0.547745   71   \n",
       "2    99012                 0                              0.044280   51   \n",
       "3    99023                 0                              0.914249   55   \n",
       "4    99027                 0                              0.026599   45   \n",
       "\n",
       "  zipcode  NumberOfTime30-59DaysPastDueNotWorse   DebtRatio  MonthlyIncome  \\\n",
       "0   60601                                     0  505.000000            0.0   \n",
       "1   60601                                     0    0.459565        15666.0   \n",
       "2   60601                                     0    0.014520         4200.0   \n",
       "3   60601                                     4    0.794875         9052.0   \n",
       "4   60601                                     0    0.049966        10406.0   \n",
       "\n",
       "   NumberOfOpenCreditLinesAndLoans  NumberOfTimes90DaysLate  \\\n",
       "0                                2                        0   \n",
       "1                                7                        0   \n",
       "2                                5                        0   \n",
       "3                               12                        0   \n",
       "4                                4                        0   \n",
       "\n",
       "   NumberRealEstateLoansOrLines  NumberOfTime60-89DaysPastDueNotWorse  \\\n",
       "0                             0                                     0   \n",
       "1                             2                                     0   \n",
       "2                             0                                     0   \n",
       "3                             3                                     0   \n",
       "4                             0                                     0   \n",
       "\n",
       "   NumberOfDependents RevolvingUtilizationOfUnsecuredLines_cat  \\\n",
       "0                 0.0                                  0.5-1.0   \n",
       "1                 0.0                                  0.5-1.0   \n",
       "2                 0.0                                     <0.5   \n",
       "3                 0.0                                  0.5-1.0   \n",
       "4                 2.0                                     <0.5   \n",
       "\n",
       "   RevolvingUtilizationOfUnsecuredLines_cat_<0.5  \\\n",
       "0                                              0   \n",
       "1                                              0   \n",
       "2                                              1   \n",
       "3                                              0   \n",
       "4                                              1   \n",
       "\n",
       "   RevolvingUtilizationOfUnsecuredLines_cat_0.5-1.0  \\\n",
       "0                                                 1   \n",
       "1                                                 1   \n",
       "2                                                 0   \n",
       "3                                                 1   \n",
       "4                                                 0   \n",
       "\n",
       "   RevolvingUtilizationOfUnsecuredLines_cat_1.0-1.5  \\\n",
       "0                                                 0   \n",
       "1                                                 0   \n",
       "2                                                 0   \n",
       "3                                                 0   \n",
       "4                                                 0   \n",
       "\n",
       "   RevolvingUtilizationOfUnsecuredLines_cat_1.5-2.0  \\\n",
       "0                                                 0   \n",
       "1                                                 0   \n",
       "2                                                 0   \n",
       "3                                                 0   \n",
       "4                                                 0   \n",
       "\n",
       "   RevolvingUtilizationOfUnsecuredLines_cat_>2.0  \n",
       "0                                              0  \n",
       "1                                              0  \n",
       "2                                              0  \n",
       "3                                              0  \n",
       "4                                              0  "
      ]
     },
     "execution_count": 30,
     "metadata": {},
     "output_type": "execute_result"
    }
   ],
   "source": [
    "# Convert the categorical to dummy variables \n",
    "data = pipeline.convert_to_dummy(RUCAT, data)\n",
    "data.head()"
   ]
  },
  {
   "cell_type": "markdown",
   "metadata": {},
   "source": [
    "# 5) Build Classifier"
   ]
  },
  {
   "cell_type": "markdown",
   "metadata": {},
   "source": [
    "Build a decision tree classifier using the following features:"
   ]
  },
  {
   "cell_type": "code",
   "execution_count": 31,
   "metadata": {},
   "outputs": [
    {
     "name": "stdout",
     "output_type": "stream",
     "text": [
      "RevolvingUtilizationOfUnsecuredLines_cat_<0.5\n",
      "RevolvingUtilizationOfUnsecuredLines_cat_0.5-1.0\n",
      "RevolvingUtilizationOfUnsecuredLines_cat_1.0-1.5\n",
      "RevolvingUtilizationOfUnsecuredLines_cat_1.5-2.0\n",
      "RevolvingUtilizationOfUnsecuredLines_cat_>2.0\n",
      "zipcode\n"
     ]
    }
   ],
   "source": [
    "# Select feature columns\n",
    "feat_cols = [RUCAT + \"_\" + v for v in RU_labels]\n",
    "feat_cols.append('zipcode')\n",
    "for f in feat_cols:\n",
    "    print(f)"
   ]
  },
  {
   "cell_type": "code",
   "execution_count": 32,
   "metadata": {},
   "outputs": [],
   "source": [
    "# Create, fit, and predict a tree (default test size = 0.25) \n",
    "clf, y_test, y_pred = pipeline.build_tree_clf(SD, feat_cols, data, random_state=20190418)"
   ]
  },
  {
   "cell_type": "markdown",
   "metadata": {},
   "source": [
    "# 6) Evaluate Classifier\n"
   ]
  },
  {
   "cell_type": "markdown",
   "metadata": {},
   "source": [
    "Calculate model accuracy -- how often is the model correct?"
   ]
  },
  {
   "cell_type": "code",
   "execution_count": 33,
   "metadata": {
    "scrolled": true
   },
   "outputs": [
    {
     "name": "stdout",
     "output_type": "stream",
     "text": [
      "Accuracy: 0.8518626877316169\n"
     ]
    }
   ],
   "source": [
    "# Calculate model accuracy -- how often is the model correct?\n",
    "print(\"Accuracy:\", pipeline.evaluate_accuracy(y_test, y_pred))"
   ]
  }
 ],
 "metadata": {
  "kernelspec": {
   "display_name": "mlpp_hw",
   "language": "python",
   "name": "mlpp_hw"
  },
  "language_info": {
   "codemirror_mode": {
    "name": "ipython",
    "version": 3
   },
   "file_extension": ".py",
   "mimetype": "text/x-python",
   "name": "python",
   "nbconvert_exporter": "python",
   "pygments_lexer": "ipython3",
   "version": "3.7.3"
  }
 },
 "nbformat": 4,
 "nbformat_minor": 2
}
